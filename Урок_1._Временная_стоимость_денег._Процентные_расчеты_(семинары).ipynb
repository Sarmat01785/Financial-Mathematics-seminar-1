{
 "cells": [
  {
   "cell_type": "markdown",
   "id": "4e73ec11",
   "metadata": {},
   "source": [
    "### Задача 1. \n",
    "Инвестор купил акцию 6 лет назад по цене 10 долларов. Сейчас он продал ее за 50 долларов. Определить, какую доходность принесла ему эта инвестиция в процентах годовых."
   ]
  },
  {
   "cell_type": "code",
   "execution_count": 3,
   "id": "f99d0822",
   "metadata": {},
   "outputs": [
    {
     "name": "stdout",
     "output_type": "stream",
     "text": [
      "Годовая доходность инвестиции: 30.77%\n"
     ]
    }
   ],
   "source": [
    "def calculate_annual_return(initial_price, final_price, years):\n",
    "    \"\"\"\n",
    "    Функция для расчета годовой доходности инвестиции.\n",
    "    \n",
    "    :param initial_price: Начальная цена акции\n",
    "    :param final_price: Конечная цена акции\n",
    "    :param years: Количество лет инвестирования\n",
    "    :return: Годовая доходность в процентах\n",
    "    \"\"\"\n",
    "    # Расчет годовой доходности\n",
    "    annual_return = ((final_price / initial_price) ** (1 / years) - 1) * 100\n",
    "    return annual_return\n",
    "\n",
    "\n",
    "initial_price = 10  # Начальная цена акции\n",
    "final_price = 50    # Конечная цена акции\n",
    "years = 6           # Количество лет\n",
    "\n",
    "# Расчет годовой доходности\n",
    "annual_return = calculate_annual_return(initial_price, final_price, years)\n",
    "print(f\"Годовая доходность инвестиции: {annual_return:.2f}%\")"
   ]
  },
  {
   "cell_type": "markdown",
   "id": "c362d7ea",
   "metadata": {},
   "source": [
    "### Задача 2. \n",
    "Инвестору исполнилось только что 30 лет. Он хочет выйти на пенсию в 60 лет и жить на доход с капитала. Допустим, его целевой уровень капитала к пенсии составляет $350 000. Если он ожидает ставку доходности на рынке порядка 8% годовых, то какую сумму ему надо инвестировать каждый год для достижения цели?"
   ]
  },
  {
   "cell_type": "code",
   "execution_count": 4,
   "id": "7a132d12",
   "metadata": {},
   "outputs": [
    {
     "name": "stdout",
     "output_type": "stream",
     "text": [
      "Необходимая ежегодная инвестиция: $3336.77\n"
     ]
    }
   ],
   "source": [
    "def calculate_annual_investment(target_capital, annual_rate, years_left):\n",
    "    \"\"\"\n",
    "    Функция для расчета ежегодной инвестиции для достижения целевого капитала.\n",
    "    \n",
    "    :param target_capital: Целевой уровень капитала к пенсии\n",
    "    :param annual_rate: Ожидаемая годовая ставка доходности\n",
    "    :param years_left: Количество лет до пенсии\n",
    "    :return: Необходимая ежегодная инвестиция\n",
    "    \"\"\"\n",
    "    # Формула будущей стоимости аннуитета\n",
    "    annual_investment = target_capital / (((1 + annual_rate) ** years_left - 1) / annual_rate / (1 + annual_rate))\n",
    "    return annual_investment\n",
    "\n",
    "\n",
    "target_capital = 350000  # Целевой уровень капитала\n",
    "annual_rate = 0.08       # Ставка доходности\n",
    "years_left = 30          # Количество лет до пенсии\n",
    "\n",
    "# Расчет ежегодной инвестиции\n",
    "annual_investment = calculate_annual_investment(target_capital, annual_rate, years_left)\n",
    "print(f\"Необходимая ежегодная инвестиция: ${annual_investment:.2f}\")"
   ]
  },
  {
   "cell_type": "markdown",
   "id": "f7242a28",
   "metadata": {},
   "source": [
    "### Задача 3. \n",
    "Человек взял ипотечный кредит на сумму 8 млн руб., на 20 лет под 10% годовых. Погашение кредита будет происходить ежемесячными аннуитетными платежами. Определить, сколько составит общая переплата (сумма процентов) по кредиту."
   ]
  },
  {
   "cell_type": "code",
   "execution_count": 13,
   "id": "0d03cc65",
   "metadata": {},
   "outputs": [
    {
     "name": "stdout",
     "output_type": "stream",
     "text": [
      "Общая переплата по кредиту: 10528415.59 руб.\n"
     ]
    }
   ],
   "source": [
    "def calculate_total_interest(loan_amount, annual_rate, years):\n",
    "    \"\"\"\n",
    "    Функция для расчета общей переплаты по ипотечному кредиту.\n",
    "    \n",
    "    :param loan_amount: Сумма кредита\n",
    "    :param annual_rate: Годовая процентная ставка\n",
    "    :param years: Срок кредита в годах\n",
    "    :return: Общая сумма процентов по кредиту\n",
    "    \"\"\"\n",
    "    # Месячная процентная ставка\n",
    "    monthly_rate = annual_rate / 12\n",
    "    # Общее количество месяцев\n",
    "    total_months = years * 12\n",
    "    # Ежемесячный платеж\n",
    "    monthly_payment = loan_amount * (monthly_rate / (1 - (1 + monthly_rate) ** -total_months))\n",
    "    # Общая сумма выплат\n",
    "    total_payments = monthly_payment * total_months\n",
    "    # Общая сумма процентов\n",
    "    total_interest = total_payments - loan_amount\n",
    "    return total_interest\n",
    "\n",
    "\n",
    "loan_amount = 8000000  # Сумма кредита в рублях\n",
    "annual_rate = 0.10     # Годовая процентная ставка\n",
    "years = 20             # Срок кредита в годах\n",
    "\n",
    "# Расчет общей переплаты по кредиту\n",
    "total_interest = calculate_total_interest(loan_amount, annual_rate, years)\n",
    "print(f\"Общая переплата по кредиту: {total_interest:.2f} руб.\")"
   ]
  },
  {
   "cell_type": "markdown",
   "id": "51cd037d",
   "metadata": {},
   "source": [
    "### Задача 4. \n",
    "Известно, что безрисковая ставка на рынке составляет 1%, инфляция ожидается 6% годовых и для данного проекта премия за риск равна 4%. Пусть ставка дисконтирования определяется как сумма этих трех составляющих, тогда чему равна приведенная стоимость потоков по проекту, если в первый год ожидается 2000 доллоров, во второй 5000  доллоров и в третьем году проект будет продан за $10000?"
   ]
  },
  {
   "cell_type": "code",
   "execution_count": 14,
   "id": "de95a1da",
   "metadata": {},
   "outputs": [
    {
     "name": "stdout",
     "output_type": "stream",
     "text": [
      "Приведенная стоимость проекта: $13171.83\n"
     ]
    }
   ],
   "source": [
    "def calculate_present_value(cash_flows, discount_rate):\n",
    "    \"\"\"\n",
    "    Функция для расчета приведенной стоимости потоков по проекту.\n",
    "    \n",
    "    :param cash_flows: Список ожидаемых денежных потоков\n",
    "    :param discount_rate: Ставка дисконтирования\n",
    "    :return: Приведенная стоимость\n",
    "    \"\"\"\n",
    "    pv = sum(cf / ((1 + discount_rate) ** i) for i, cf in enumerate(cash_flows, start=1))\n",
    "    return pv\n",
    "\n",
    "# Денежные потоки и ставка дисконтирования\n",
    "cash_flows = [2000, 5000, 10000]\n",
    "discount_rate = 0.01 + 0.06 + 0.04  # Сумма безрисковой ставки, инфляции и премии за риск\n",
    "\n",
    "# Расчет приведенной стоимости\n",
    "pv = calculate_present_value(cash_flows, discount_rate)\n",
    "print(f\"Приведенная стоимость проекта: ${pv:.2f}\")"
   ]
  },
  {
   "cell_type": "markdown",
   "id": "003a6eb8",
   "metadata": {},
   "source": [
    "### Задача 5. \n",
    "Что выгодней: положить деньги на депозит под 11% годовых с ежемесячной капитализацией или на депозит под 11,5% с ежегодной капитализацией процентов?"
   ]
  },
  {
   "cell_type": "code",
   "execution_count": 21,
   "id": "799da01d",
   "metadata": {},
   "outputs": [
    {
     "name": "stdout",
     "output_type": "stream",
     "text": [
      "Сумма по вкладу с ежемесячной капитализацией: $1115.72\n",
      "Сумма по вкладу с ежегодной капитализацией: $1115.00\n",
      "Вклад с ежемесячной капитализацией выгоднее.\n"
     ]
    }
   ],
   "source": [
    "def compare_deposits(principal, rate_monthly, rate_annual, years):\n",
    "    \"\"\"\n",
    "    Функция для сравнения доходности двух видов депозитов.\n",
    "    \n",
    "    :param principal: Начальная сумма вклада\n",
    "    :param rate_monthly: Процентная ставка с ежемесячной капитализацией\n",
    "    :param rate_annual: Процентная ставка с ежегодной капитализацией\n",
    "    :param years: Срок вклада в годах\n",
    "    :return: Суммы по вкладам с разными условиями капитализации\n",
    "    \"\"\"\n",
    "    # Сумма по вкладу с ежемесячной капитализацией\n",
    "    total_monthly = principal * ((1 + rate_monthly / 12) ** (12 * years))\n",
    "    # Сумма по вкладу с ежегодной капитализацией\n",
    "    total_annual = principal * ((1 + rate_annual) ** years)\n",
    "    \n",
    "    return total_monthly, total_annual\n",
    "\n",
    "# Параметры вкладов\n",
    "principal = 1000\n",
    "rate_monthly = 0.11\n",
    "rate_annual = 0.115\n",
    "years = 1\n",
    "\n",
    "# Сравнение вкладов\n",
    "total_monthly, total_annual = compare_deposits(principal, rate_monthly, rate_annual, years)\n",
    "print(f\"Сумма по вкладу с ежемесячной капитализацией: ${total_monthly:.2f}\")\n",
    "print(f\"Сумма по вкладу с ежегодной капитализацией: ${total_annual:.2f}\")\n",
    "\n",
    "# Вывод, какой вклад выгоднее\n",
    "if total_monthly > total_annual:\n",
    "    print(\"Вклад с ежемесячной капитализацией выгоднее.\")\n",
    "else:\n",
    "    print(\"Вклад с ежегодной капитализацией выгоднее.\")"
   ]
  }
 ],
 "metadata": {
  "kernelspec": {
   "display_name": "Python 3 (ipykernel)",
   "language": "python",
   "name": "python3"
  },
  "language_info": {
   "codemirror_mode": {
    "name": "ipython",
    "version": 3
   },
   "file_extension": ".py",
   "mimetype": "text/x-python",
   "name": "python",
   "nbconvert_exporter": "python",
   "pygments_lexer": "ipython3",
   "version": "3.11.5"
  }
 },
 "nbformat": 4,
 "nbformat_minor": 5
}
